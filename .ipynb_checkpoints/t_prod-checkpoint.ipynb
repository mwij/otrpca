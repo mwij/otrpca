{
 "cells": [
  {
   "cell_type": "code",
   "execution_count": 3,
   "metadata": {},
   "outputs": [],
   "source": [
    "import numpy as np"
   ]
  },
  {
   "cell_type": "code",
   "execution_count": 6,
   "metadata": {},
   "outputs": [],
   "source": [
    "\n",
    "def get_frontal_faces(A):\n",
    "    \n",
    "    dims = A.shape\n",
    "    a_frontal_slice_index = tuple( [0,0] + [slice(0, dims[i + 2]) for i in range(len(dims) - 2)]  )\n",
    "    a_frontal_slice = A[a_frontal_slice_index]\n",
    "\n",
    "    frontal_faces = set([i for i, b in np.ndenumerate(a_frontal_slice)])\n",
    "    \n",
    "    return(frontal_faces)\n",
    "    \n",
    "\n"
   ]
  },
  {
   "cell_type": "code",
   "execution_count": null,
   "metadata": {},
   "outputs": [],
   "source": []
  },
  {
   "cell_type": "code",
   "execution_count": null,
   "metadata": {},
   "outputs": [],
   "source": []
  },
  {
   "cell_type": "code",
   "execution_count": null,
   "metadata": {},
   "outputs": [],
   "source": []
  },
  {
   "cell_type": "code",
   "execution_count": 7,
   "metadata": {},
   "outputs": [],
   "source": [
    "def t_prod(A, B, frontal_faces = None):\n",
    "    \"\"\"Tensor-tensor product of two p-dimensional tensors: C = A*B, as defined WHERE\n",
    "       \n",
    "\n",
    "    Parameters\n",
    "    ----------\n",
    "    A : np-dimensional array\n",
    "        n1 x j x n3 x ... x np tensor\n",
    "    B : np-dimensional array\n",
    "        j x n2 x n3 x ... x np tensor\n",
    "       \n",
    "    Returns\n",
    "    ----------       \n",
    "    C : np-dimensional array\n",
    "        n1 x n2 x n3 x ... x np tensor\n",
    "\n",
    "\n",
    "\n",
    " version 2.0 - 09/10/2017\n",
    "\n",
    "\n",
    "\n",
    "Written by Canyi Lu (canyilu@gmail.com)\n",
    "\n",
    "\n",
    "\n",
    "\n",
    "References: \n",
    "\n",
    "Canyi Lu, Tensor-Tensor Product Toolbox. Carnegie Mellon University. \n",
    "\n",
    "June, 2018. https://github.com/canyilu/tproduct.\n",
    "\n",
    "\n",
    "\n",
    "Canyi Lu, Jiashi Feng, Yudong Chen, Wei Liu, Zhouchen Lin and Shuicheng\n",
    "\n",
    "Yan, Tensor Robust Principal Component Analysis with A New Tensor Nuclear\n",
    "\n",
    "Norm, arXiv preprint arXiv:1804.03728, 2018\n",
    "\n",
    "\"\"\"\n",
    "\n",
    "\n",
    "    \n",
    "    \n",
    "    if frontal_faces is None:\n",
    "        frontal_faces = get_frontal_faces(A)\n",
    "        \n",
    "    dim_A = A.shape\n",
    "    dim_B = B.shape\n",
    "    \n",
    "    dim_C = np.array(dim_A)\n",
    "    dim_C[1] = dim_B[1]\n",
    "    \n",
    "    \n",
    "    C = np.zeros(tuple(dim_C),dtype=complex)\n",
    "    \n",
    "    dims = len(dim_A)\n",
    "    \n",
    "    for i in range(dims - 2):\n",
    "        A = np.fft.fft(A, axis = i + 2)\n",
    "        B = np.fft.fft(B, axis = i + 2)\n",
    "            \n",
    "\n",
    "    for index in frontal_faces: \n",
    "        \n",
    "        \n",
    "        i_A = tuple( [slice(0, dim_A[0]),slice(0, dim_A[1])] + [i for i in index])\n",
    "        i_B = tuple( [slice(0, dim_B[0]),slice(0, dim_B[1])] + [i for i in index])\n",
    "        i_C = tuple( [slice(0, dim_C[0]),slice(0, dim_C[1])] + [i for i in index])\n",
    "\n",
    "        \n",
    "        C[i_C] = A[i_A] @ B[i_B]\n",
    "\n",
    "    \n",
    "    for i in range(dims - 2):\n",
    "        \n",
    "        C = np.fft.ifft(C, axis = i + 2)\n",
    "\n",
    "    return(C)"
   ]
  },
  {
   "cell_type": "code",
   "execution_count": null,
   "metadata": {},
   "outputs": [],
   "source": []
  },
  {
   "cell_type": "code",
   "execution_count": null,
   "metadata": {},
   "outputs": [],
   "source": []
  },
  {
   "cell_type": "code",
   "execution_count": null,
   "metadata": {},
   "outputs": [],
   "source": []
  },
  {
   "cell_type": "code",
   "execution_count": null,
   "metadata": {},
   "outputs": [],
   "source": []
  },
  {
   "cell_type": "code",
   "execution_count": null,
   "metadata": {},
   "outputs": [],
   "source": []
  }
 ],
 "metadata": {
  "kernelspec": {
   "display_name": "Python 3",
   "language": "python",
   "name": "python3"
  },
  "language_info": {
   "codemirror_mode": {
    "name": "ipython",
    "version": 3
   },
   "file_extension": ".py",
   "mimetype": "text/x-python",
   "name": "python",
   "nbconvert_exporter": "python",
   "pygments_lexer": "ipython3",
   "version": "3.7.3"
  }
 },
 "nbformat": 4,
 "nbformat_minor": 2
}

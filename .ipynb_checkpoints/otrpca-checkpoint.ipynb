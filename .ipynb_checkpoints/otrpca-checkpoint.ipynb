{
 "cells": [
  {
   "cell_type": "code",
   "execution_count": 2,
   "metadata": {},
   "outputs": [],
   "source": [
    "from tensors_old import *"
   ]
  },
  {
   "cell_type": "code",
   "execution_count": 3,
   "metadata": {},
   "outputs": [],
   "source": [
    "#takes a tensor and stacks T copies of it along the 2nd (indexed 1) dimension\n",
    "def stacker(L_0, T):\n",
    "    \n",
    "    L_0_expanded = np.expand_dims(L_0, 1)\n",
    "    stacked_dims = np.array(L_0_expanded.shape)\n",
    "    stacked_dims[1] = T\n",
    "    L_0_stacked = np.empty(stacked_dims, dtype = complex)\n",
    "\n",
    "    #slices from min to max for every dimension\n",
    "    all_slice = [slice(0, stacked_dims[i]) for i in range(len(stacked_dims))]\n",
    "    \n",
    "    #for each i (ranging up to T) insert a copy\n",
    "    for i in range(T):\n",
    "        all_slice[1] = slice(i,i+1) \n",
    "        L_0_stacked[tuple(all_slice)] = L_0_expanded\n",
    "        \n",
    "    return(L_0_stacked)\n",
    "\n",
    "\n",
    "n = 25    #size of each dimension other than the 2nd dimension (indexed 1, 4 dimension tensor)\n",
    "T = 50    #size of the 2nd dimensions (indexed 1)\n",
    "rank = 3  #rank of the tensor\n",
    "rho = .1  #proportion of corrupted entries\n",
    "\n",
    "#generate problem: recover L_0 (and C_0) when given M_0\n",
    "\n",
    "A = np.random.normal(0,1/n,(n,rank,n))\n",
    "B = np.random.normal(0,1/n,(rank,n,n))\n",
    "L_0 = stacker(t_prod(A,B), T)\n",
    "\n",
    "S_0 = np.random.binomial(1, rho, L_0.shape)\n",
    "N   = np.random.normal(0, 1, L_0.shape)\n",
    "C_0 = S_0 * N\n",
    "\n",
    "M_0 = L_0 + C_0"
   ]
  },
  {
   "cell_type": "code",
   "execution_count": 4,
   "metadata": {},
   "outputs": [
    {
     "data": {
      "text/plain": [
       "(25, 50, 25, 25)"
      ]
     },
     "execution_count": 4,
     "metadata": {},
     "output_type": "execute_result"
    }
   ],
   "source": [
    "M_0.shape"
   ]
  },
  {
   "cell_type": "code",
   "execution_count": 5,
   "metadata": {},
   "outputs": [
    {
     "name": "stdout",
     "output_type": "stream",
     "text": [
      "minimising A\n",
      "minimising A\n",
      "minimising A\n",
      "minimising A\n",
      "minimising A\n",
      "minimising A\n",
      "minimising A\n",
      "minimising A\n",
      "minimising A\n",
      "minimising A\n",
      "minimising A\n",
      "minimising A\n",
      "minimising A\n",
      "minimising A\n",
      "minimising A\n",
      "minimising A\n",
      "minimising A\n",
      "minimising A\n",
      "minimising A\n",
      "minimising A\n",
      "minimising A\n",
      "minimising A\n",
      "minimising A\n",
      "minimising A\n",
      "minimising A\n",
      "minimising A\n",
      "minimising A\n",
      "minimising A\n",
      "minimising A\n",
      "minimising A\n",
      "minimising A\n",
      "minimising A\n",
      "minimising A\n",
      "minimising A\n",
      "minimising A\n",
      "minimising A\n",
      "minimising A\n",
      "minimising A\n",
      "minimising A\n",
      "minimising A\n",
      "minimising A\n",
      "minimising A\n",
      "minimising A\n",
      "minimising A\n",
      "minimising A\n",
      "minimising A\n",
      "minimising A\n",
      "minimising A\n",
      "minimising A\n",
      "minimising A\n"
     ]
    }
   ],
   "source": [
    "#run algorithm (returns A and B that have to be multiplied to get L)\n",
    "A, B, C = otrpca(M_0)"
   ]
  },
  {
   "cell_type": "code",
   "execution_count": 6,
   "metadata": {},
   "outputs": [],
   "source": [
    "L = t_prod(A,B)"
   ]
  },
  {
   "cell_type": "code",
   "execution_count": 7,
   "metadata": {},
   "outputs": [
    {
     "name": "stdout",
     "output_type": "stream",
     "text": [
      "0.9987853340137621\n",
      "0.12436222748435327\n",
      "0.09909571074776606\n",
      "0.09313288490601311\n",
      "0.08340516856256935\n",
      "0.08093037878727216\n",
      "0.08255222193515346\n",
      "0.07763255769119375\n",
      "0.07881939481754956\n",
      "0.0784275454933658\n",
      "0.07762487406497277\n",
      "0.07843181941167698\n",
      "0.07869252678837493\n",
      "0.07869578651793174\n",
      "0.07694500597030873\n",
      "0.0769030006660271\n",
      "0.07629595188896256\n",
      "0.07586108253479143\n",
      "0.07608713728532018\n",
      "0.0733365859613534\n",
      "0.07837138584168174\n",
      "0.0759610160340738\n",
      "0.07804883646965334\n",
      "0.0777836669878349\n",
      "0.07500424806806585\n",
      "0.07586774028342362\n",
      "0.07508123605047543\n",
      "0.07574413011186769\n",
      "0.07486868447147822\n",
      "0.0742922925356148\n",
      "0.07553074082966509\n",
      "0.07477642007835673\n",
      "0.07590439190535726\n",
      "0.07529620969230043\n",
      "0.074864904294746\n",
      "0.07758017954940521\n",
      "0.07588627130670153\n",
      "0.07380016133741064\n",
      "0.07399105558117323\n",
      "0.07529947683665598\n",
      "0.07610777415062148\n",
      "0.07282726594248792\n",
      "0.07671425389363644\n",
      "0.07419769856560389\n",
      "0.07788544459871245\n",
      "0.07373683691389894\n",
      "0.0755229938499769\n",
      "0.07553078963033823\n",
      "0.07700616510919633\n",
      "0.0732613996653941\n"
     ]
    }
   ],
   "source": [
    "for i in range(T):\n",
    "    print(error(L[:,i,:,:],L_0[:,i,:,:]))"
   ]
  },
  {
   "cell_type": "code",
   "execution_count": null,
   "metadata": {},
   "outputs": [],
   "source": []
  },
  {
   "cell_type": "code",
   "execution_count": null,
   "metadata": {},
   "outputs": [
    {
     "name": "stdout",
     "output_type": "stream",
     "text": [
      "start trpca\n",
      "cpu 51.0 ram 47.4 0 4.4926169351390985\n",
      "cpu 52.1 ram 47.4 10 0.35487137134171665\n",
      "cpu 52.7 ram 47.4 20 0.11430828964906592\n",
      "cpu 53.1 ram 47.2 30 0.04927204473477376\n",
      "cpu 53.3 ram 47.2 40 0.018664632623540938\n",
      "cpu 52.3 ram 47.2 50 0.007236669665442695\n",
      "cpu 53.2 ram 47.2 60 0.0025012161083731443\n"
     ]
    }
   ],
   "source": [
    "#set reguralisation\n",
    "dims = M_0.shape\n",
    "n_min = min(dims[0], dims[1])\n",
    "reg = np.sqrt( n_min / np.prod(dims))\n",
    "\n",
    "L_alm, C_alm = trpca(M_0, reg)"
   ]
  },
  {
   "cell_type": "code",
   "execution_count": null,
   "metadata": {},
   "outputs": [],
   "source": [
    "error(L_alm,L_0)"
   ]
  },
  {
   "cell_type": "code",
   "execution_count": null,
   "metadata": {},
   "outputs": [],
   "source": []
  }
 ],
 "metadata": {
  "kernelspec": {
   "display_name": "Python 3",
   "language": "python",
   "name": "python3"
  },
  "language_info": {
   "codemirror_mode": {
    "name": "ipython",
    "version": 3
   },
   "file_extension": ".py",
   "mimetype": "text/x-python",
   "name": "python",
   "nbconvert_exporter": "python",
   "pygments_lexer": "ipython3",
   "version": "3.7.3"
  }
 },
 "nbformat": 4,
 "nbformat_minor": 2
}

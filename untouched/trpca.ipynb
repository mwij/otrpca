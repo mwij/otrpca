{
 "cells": [
  {
   "cell_type": "code",
   "execution_count": 1,
   "metadata": {},
   "outputs": [],
   "source": [
    "from tensors_untouched import *\n",
    "#import numpy as np\n"
   ]
  },
  {
   "cell_type": "code",
   "execution_count": 3,
   "metadata": {},
   "outputs": [],
   "source": [
    "#generate problem: recover L_0 (and C_0) when given M_0\n",
    "\n",
    "n = 25    #size of each dimension (3 dimension tensor)\n",
    "rank = 3  #rank of the tensor\n",
    "rho = .1  #proportion of corrupted entries\n",
    "\n",
    "A = np.random.normal(0,1/n,(n,rank,n))\n",
    "B = np.random.normal(0,1/n,(rank,n,n))\n",
    "L_0 = t_prod(A,B)\n",
    "\n",
    "S_0 = np.random.binomial(1,rho, L_0.shape)\n",
    "N   = np.random.normal(0,1/n, L_0.shape)\n",
    "C_0 = S_0 * N\n",
    "\n",
    "M_0 = L_0 + C_0"
   ]
  },
  {
   "cell_type": "code",
   "execution_count": 4,
   "metadata": {},
   "outputs": [],
   "source": [
    "#set reguralisation\n",
    "dims = M_0.shape\n",
    "n_min = min(dims[0], dims[1])\n",
    "reg = np.sqrt( n_min / np.prod(dims))"
   ]
  },
  {
   "cell_type": "code",
   "execution_count": 5,
   "metadata": {},
   "outputs": [
    {
     "name": "stdout",
     "output_type": "stream",
     "text": [
      "start trpca\n",
      "cpu 12.1 ram 45.0 0 0.1535407889247862\n",
      "cpu 81.2 ram 45.1 10 0.1535407889247862\n",
      "cpu 50.0 ram 45.1 20 0.1535407889247862\n",
      "cpu 54.2 ram 45.1 30 0.1535407889247862\n",
      "cpu 54.2 ram 45.1 40 0.09003373635548817\n",
      "cpu 62.5 ram 45.0 50 0.04271418414323859\n",
      "cpu 50.0 ram 45.0 60 0.020393486845636716\n",
      "cpu 55.0 ram 45.0 70 0.008255912263002756\n",
      "cpu 69.7 ram 45.1 80 0.003764590672962139\n",
      "cpu 50.0 ram 45.1 90 0.0012193238899886397\n",
      "cpu 50.0 ram 45.1 100 0.0005862795965256083\n",
      "cpu 50.0 ram 45.1 110 0.00014270660898550377\n",
      "cpu 54.2 ram 45.1 120 4.1349692320113984e-05\n",
      "cpu 59.4 ram 45.1 130 1.150159817621876e-05\n",
      "cpu 62.5 ram 45.0 140 5.230653589975709e-06\n",
      "cpu 50.0 ram 45.0 150 2.5167693901168307e-08\n"
     ]
    }
   ],
   "source": [
    "#apply algorithm\n",
    "L , C = trpca(M_0, reg)"
   ]
  },
  {
   "cell_type": "code",
   "execution_count": 6,
   "metadata": {},
   "outputs": [
    {
     "name": "stdout",
     "output_type": "stream",
     "text": [
      "1.853462899913282e-08 1.3734867703806427e-08\n"
     ]
    }
   ],
   "source": [
    "#test effectiveness\n",
    "L_error = np.linalg.norm(L - L_0)/np.linalg.norm(L_0)\n",
    "C_error = np.linalg.norm(C - C_0)/np.linalg.norm(C_0)\n",
    "print(L_error, C_error)"
   ]
  }
 ],
 "metadata": {
  "kernelspec": {
   "display_name": "Python 3",
   "language": "python",
   "name": "python3"
  },
  "language_info": {
   "codemirror_mode": {
    "name": "ipython",
    "version": 3
   },
   "file_extension": ".py",
   "mimetype": "text/x-python",
   "name": "python",
   "nbconvert_exporter": "python",
   "pygments_lexer": "ipython3",
   "version": "3.7.3"
  }
 },
 "nbformat": 4,
 "nbformat_minor": 2
}

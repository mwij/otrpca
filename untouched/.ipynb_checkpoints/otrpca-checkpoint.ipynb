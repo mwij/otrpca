{
 "cells": [
  {
   "cell_type": "code",
   "execution_count": 14,
   "metadata": {},
   "outputs": [],
   "source": [
    "from tensors_untouched import *"
   ]
  },
  {
   "cell_type": "code",
   "execution_count": 55,
   "metadata": {},
   "outputs": [],
   "source": [
    "#takes a tensor and stacks T copies of it along the 2nd (indexed 1) dimension\n",
    "def stacker(L_0, T):\n",
    "    \n",
    "    L_0_expanded = np.expand_dims(L_0, 1)\n",
    "    stacked_dims = np.array(L_0_expanded.shape)\n",
    "    stacked_dims[1] = T\n",
    "    L_0_stacked = np.empty(stacked_dims, dtype = complex)\n",
    "\n",
    "    #slices from min to max for every dimension\n",
    "    all_slice = [slice(0, stacked_dims[i]) for i in range(len(stacked_dims))]\n",
    "    \n",
    "    #for each i (ranging up to T) insert a copy\n",
    "    for i in range(T):\n",
    "        all_slice[1] = slice(i,i+1) \n",
    "        L_0_stacked[tuple(all_slice)] = L_0_expanded\n",
    "        \n",
    "    return(L_0_stacked)\n",
    "\n",
    "\n",
    "n = 25    #size of each dimension other than the 2nd dimension (indexed 1, 4 dimension tensor)\n",
    "T = 50    #size of the 2nd dimensions (indexed 1)\n",
    "rank = 3  #rank of the tensor\n",
    "rho = .1  #proportion of corrupted entries\n",
    "\n",
    "#generate problem: recover L_0 (and C_0) when given M_0\n",
    "\n",
    "A = np.random.normal(0,1/n,(n,rank,n))\n",
    "B = np.random.normal(0,1/n,(rank,n,n))\n",
    "L_0 = stacker(t_prod(A,B), T)\n",
    "\n",
    "S_0 = np.random.binomial(1, rho, L_0.shape)\n",
    "N   = np.random.normal(0, 1, L_0.shape)\n",
    "C_0 = S_0 * N\n",
    "\n",
    "M_0 = L_0 + C_0"
   ]
  },
  {
   "cell_type": "code",
   "execution_count": 56,
   "metadata": {},
   "outputs": [
    {
     "data": {
      "text/plain": [
       "(25, 50, 25, 25)"
      ]
     },
     "execution_count": 56,
     "metadata": {},
     "output_type": "execute_result"
    }
   ],
   "source": [
    "M_0.shape"
   ]
  },
  {
   "cell_type": "code",
   "execution_count": 57,
   "metadata": {},
   "outputs": [
    {
     "name": "stdout",
     "output_type": "stream",
     "text": [
      "minimising A\n",
      "minimising A\n",
      "minimising A\n",
      "minimising A\n",
      "minimising A\n",
      "minimising A\n",
      "minimising A\n",
      "minimising A\n",
      "minimising A\n",
      "minimising A\n",
      "minimising A\n",
      "minimising A\n",
      "minimising A\n",
      "minimising A\n",
      "minimising A\n",
      "minimising A\n",
      "minimising A\n",
      "minimising A\n",
      "minimising A\n",
      "minimising A\n",
      "minimising A\n",
      "minimising A\n",
      "minimising A\n",
      "minimising A\n",
      "minimising A\n",
      "minimising A\n",
      "minimising A\n",
      "minimising A\n",
      "minimising A\n",
      "minimising A\n",
      "minimising A\n",
      "minimising A\n",
      "minimising A\n",
      "minimising A\n",
      "minimising A\n",
      "minimising A\n",
      "minimising A\n",
      "minimising A\n",
      "minimising A\n",
      "minimising A\n",
      "minimising A\n",
      "minimising A\n",
      "minimising A\n",
      "minimising A\n",
      "minimising A\n",
      "minimising A\n",
      "minimising A\n",
      "minimising A\n",
      "minimising A\n",
      "minimising A\n"
     ]
    }
   ],
   "source": [
    "#run algorithm (returns A and B that have to be multiplied to get L)\n",
    "A, B, C = otrpca(M_0)"
   ]
  },
  {
   "cell_type": "code",
   "execution_count": 58,
   "metadata": {},
   "outputs": [],
   "source": [
    "L = t_prod(A,B)"
   ]
  },
  {
   "cell_type": "code",
   "execution_count": 59,
   "metadata": {},
   "outputs": [
    {
     "name": "stdout",
     "output_type": "stream",
     "text": [
      "0.9988842754019891\n",
      "0.13091017286290998\n",
      "0.10583191874166507\n",
      "0.09269663074700642\n",
      "0.08407492396057367\n",
      "0.08282958934156404\n",
      "0.08065655842106864\n",
      "0.07846271098032957\n",
      "0.07772755863575882\n",
      "0.08003685158347904\n",
      "0.0800494230809144\n",
      "0.07887507314396734\n",
      "0.07635329621886958\n",
      "0.07528017080940509\n",
      "0.07550146069485236\n",
      "0.07485079233792193\n",
      "0.07501312039094762\n",
      "0.07590985255203231\n",
      "0.07577682270718225\n",
      "0.07684037816743586\n",
      "0.07634068612039553\n",
      "0.07670126836564578\n",
      "0.07733723134343537\n",
      "0.07815467412196551\n",
      "0.07787434280662894\n",
      "0.07228150198198738\n",
      "0.07551077906179166\n",
      "0.07553352666393638\n",
      "0.07623385297878814\n",
      "0.07576598949192462\n",
      "0.07502721477847328\n",
      "0.07394434226754908\n",
      "0.07538720704641795\n",
      "0.08041856717965322\n",
      "0.07637126430759776\n",
      "0.07514133371983621\n",
      "0.0752396980258772\n",
      "0.07659043941604825\n",
      "0.07591944793361496\n",
      "0.07758438703217252\n",
      "0.0749572028457209\n",
      "0.07569280186112244\n",
      "0.07612984605816259\n",
      "0.07689603835563927\n",
      "0.07557785178509036\n",
      "0.07626628776307469\n",
      "0.07656835311862273\n",
      "0.07785801650870806\n",
      "0.07613802351141578\n",
      "0.07873925396288382\n"
     ]
    }
   ],
   "source": [
    "for i in range(T):\n",
    "    print(error(L[:,i,:,:],L_0[:,i,:,:]))"
   ]
  },
  {
   "cell_type": "code",
   "execution_count": null,
   "metadata": {},
   "outputs": [],
   "source": []
  },
  {
   "cell_type": "code",
   "execution_count": 53,
   "metadata": {},
   "outputs": [
    {
     "name": "stdout",
     "output_type": "stream",
     "text": [
      "start trpca\n",
      "cpu 11.2 ram 47.0 0 3.921284468990472\n",
      "cpu 59.7 ram 47.0 10 0.7013652446957863\n",
      "cpu 57.4 ram 46.9 20 0.1947585000289107\n",
      "cpu 53.8 ram 46.9 30 0.08415936551115401\n",
      "cpu 54.3 ram 46.9 40 0.036019346252151974\n",
      "cpu 54.1 ram 47.0 50 0.01188332976480233\n",
      "cpu 54.1 ram 47.0 60 0.004381716505945488\n",
      "cpu 53.8 ram 46.9 70 0.0016316896159053948\n",
      "cpu 54.2 ram 46.9 80 0.0004157029715262592\n",
      "cpu 55.7 ram 46.9 90 0.0001441841020831322\n",
      "cpu 54.4 ram 47.1 100 3.3935632215778555e-07\n"
     ]
    }
   ],
   "source": [
    "#set reguralisation\n",
    "dims = M_0.shape\n",
    "n_min = min(dims[0], dims[1])\n",
    "reg = np.sqrt( n_min / np.prod(dims))\n",
    "\n",
    "L_alm, C_alm = trpca(M_0, reg)"
   ]
  },
  {
   "cell_type": "code",
   "execution_count": 54,
   "metadata": {},
   "outputs": [
    {
     "data": {
      "text/plain": [
       "0.012727564468773201"
      ]
     },
     "execution_count": 54,
     "metadata": {},
     "output_type": "execute_result"
    }
   ],
   "source": [
    "error(L_alm,L_0)"
   ]
  },
  {
   "cell_type": "code",
   "execution_count": null,
   "metadata": {},
   "outputs": [],
   "source": []
  }
 ],
 "metadata": {
  "kernelspec": {
   "display_name": "Python 3",
   "language": "python",
   "name": "python3"
  },
  "language_info": {
   "codemirror_mode": {
    "name": "ipython",
    "version": 3
   },
   "file_extension": ".py",
   "mimetype": "text/x-python",
   "name": "python",
   "nbconvert_exporter": "python",
   "pygments_lexer": "ipython3",
   "version": "3.7.3"
  }
 },
 "nbformat": 4,
 "nbformat_minor": 2
}

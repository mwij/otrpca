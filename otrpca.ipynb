{
 "cells": [
  {
   "cell_type": "code",
   "execution_count": 1,
   "metadata": {},
   "outputs": [],
   "source": [
    "from tensors_old import *"
   ]
  },
  {
   "cell_type": "code",
   "execution_count": 2,
   "metadata": {},
   "outputs": [],
   "source": [
    "#takes a tensor and stacks T copies of it along the 2nd (indexed 1) dimension\n",
    "def stacker(L_0, T):\n",
    "    \n",
    "    L_0_expanded = np.expand_dims(L_0, 1)\n",
    "    stacked_dims = np.array(L_0_expanded.shape)\n",
    "    stacked_dims[1] = T\n",
    "    L_0_stacked = np.empty(stacked_dims, dtype = complex)\n",
    "\n",
    "    #slices from min to max for every dimension\n",
    "    all_slice = [slice(0, stacked_dims[i]) for i in range(len(stacked_dims))]\n",
    "    \n",
    "    #for each i (ranging up to T) insert a copy\n",
    "    for i in range(T):\n",
    "        all_slice[1] = slice(i,i+1) \n",
    "        L_0_stacked[tuple(all_slice)] = L_0_expanded\n",
    "        \n",
    "    return(L_0_stacked)\n",
    "\n",
    "\n",
    "n = 25    #size of each dimension other than the 2nd dimension (indexed 1, 4 dimension tensor)\n",
    "T = 50    #size of the 2nd dimensions (indexed 1)\n",
    "rank = 3  #rank of the tensor\n",
    "rho = .1  #proportion of corrupted entries\n",
    "\n",
    "#generate problem: recover L_0 (and C_0) when given M_0\n",
    "\n",
    "A = np.random.normal(0,1/n,(n,rank,n))\n",
    "B = np.random.normal(0,1/n,(rank,n,n))\n",
    "L_0 = stacker(t_prod(A,B), T)\n",
    "\n",
    "S_0 = np.random.binomial(1, rho, L_0.shape)\n",
    "N   = np.random.normal(0, 1, L_0.shape)\n",
    "C_0 = S_0 * N\n",
    "\n",
    "M_0 = L_0 + C_0"
   ]
  },
  {
   "cell_type": "code",
   "execution_count": 3,
   "metadata": {},
   "outputs": [
    {
     "data": {
      "text/plain": [
       "(25, 50, 25, 25)"
      ]
     },
     "execution_count": 3,
     "metadata": {},
     "output_type": "execute_result"
    }
   ],
   "source": [
    "M_0.shape"
   ]
  },
  {
   "cell_type": "code",
   "execution_count": 4,
   "metadata": {},
   "outputs": [
    {
     "name": "stdout",
     "output_type": "stream",
     "text": [
      "minimising A\n",
      "minimising A\n",
      "minimising A\n",
      "minimising A\n",
      "minimising A\n",
      "minimising A\n",
      "minimising A\n",
      "minimising A\n",
      "minimising A\n",
      "minimising A\n",
      "minimising A\n",
      "minimising A\n",
      "minimising A\n",
      "minimising A\n",
      "minimising A\n",
      "minimising A\n",
      "minimising A\n",
      "minimising A\n",
      "minimising A\n",
      "minimising A\n",
      "minimising A\n",
      "minimising A\n",
      "minimising A\n",
      "minimising A\n",
      "minimising A\n",
      "minimising A\n",
      "minimising A\n",
      "minimising A\n",
      "minimising A\n",
      "minimising A\n",
      "minimising A\n",
      "minimising A\n",
      "minimising A\n",
      "minimising A\n",
      "minimising A\n",
      "minimising A\n",
      "minimising A\n",
      "minimising A\n",
      "minimising A\n",
      "minimising A\n",
      "minimising A\n",
      "minimising A\n",
      "minimising A\n",
      "minimising A\n",
      "minimising A\n",
      "minimising A\n",
      "minimising A\n",
      "minimising A\n",
      "minimising A\n",
      "minimising A\n"
     ]
    }
   ],
   "source": [
    "#run algorithm (returns A and B that have to be multiplied to get L)\n",
    "A, B, C = otrpca(M_0)"
   ]
  },
  {
   "cell_type": "code",
   "execution_count": 5,
   "metadata": {},
   "outputs": [],
   "source": [
    "L = t_prod(A,B)"
   ]
  },
  {
   "cell_type": "code",
   "execution_count": 6,
   "metadata": {},
   "outputs": [
    {
     "name": "stdout",
     "output_type": "stream",
     "text": [
      "0.9988995013237459\n",
      "0.13155066634683515\n",
      "0.1049331043261363\n",
      "0.09665702852817648\n",
      "0.08830021400458282\n",
      "0.0820437071098909\n",
      "0.08275717849054838\n",
      "0.08161484527233201\n",
      "0.08007150639238599\n",
      "0.08128630270088852\n",
      "0.07984643715208807\n",
      "0.07986503183666108\n",
      "0.08099939673938565\n",
      "0.07762065094333627\n",
      "0.07835659491394732\n",
      "0.07894242723896468\n",
      "0.07761964565574607\n",
      "0.07792916651211503\n",
      "0.0787435192862681\n",
      "0.07851487581954487\n",
      "0.07872700958797677\n",
      "0.07843872487928003\n",
      "0.07676228712924117\n",
      "0.0783161337593411\n",
      "0.07777594628565453\n",
      "0.07916768374018993\n",
      "0.0768058491792958\n",
      "0.0788695683353701\n",
      "0.07957083648495399\n",
      "0.07811185140371465\n",
      "0.07646880377877954\n",
      "0.07544140458378858\n",
      "0.07808059075105404\n",
      "0.07848881591975795\n",
      "0.07968657705887808\n",
      "0.07648136935127292\n",
      "0.07843667378264721\n",
      "0.07780763859757882\n",
      "0.07702993445128249\n",
      "0.07683283236623147\n",
      "0.07720362238084119\n",
      "0.07544339681473866\n",
      "0.07614498463880466\n",
      "0.07629191985928299\n",
      "0.07771485858330957\n",
      "0.07898827502706646\n",
      "0.0793697910396216\n",
      "0.0767375977575153\n",
      "0.07793617530053336\n",
      "0.08080971174693732\n"
     ]
    }
   ],
   "source": [
    "for i in range(T):\n",
    "    print(error(L[:,i,:,:],L_0[:,i,:,:]))"
   ]
  },
  {
   "cell_type": "code",
   "execution_count": null,
   "metadata": {},
   "outputs": [],
   "source": []
  },
  {
   "cell_type": "code",
   "execution_count": 8,
   "metadata": {},
   "outputs": [
    {
     "name": "stdout",
     "output_type": "stream",
     "text": [
      "start trpca\n",
      "cpu 51.0 ram 47.4 0 4.4926169351390985\n",
      "cpu 52.1 ram 47.4 10 0.35487137134171665\n",
      "cpu 52.7 ram 47.4 20 0.11430828964906592\n",
      "cpu 53.1 ram 47.2 30 0.04927204473477376\n",
      "cpu 53.3 ram 47.2 40 0.018664632623540938\n",
      "cpu 52.3 ram 47.2 50 0.007236669665442695\n",
      "cpu 53.2 ram 47.2 60 0.0025012161083731443\n",
      "cpu 57.7 ram 47.2 70 0.0008818433294893908\n",
      "cpu 53.3 ram 47.2 80 0.0003904465589127937\n",
      "cpu 52.7 ram 47.2 90 0.0001035897621452439\n",
      "cpu 51.9 ram 47.2 100 1.826843825476765e-05\n",
      "cpu 52.6 ram 47.2 110 1.8274029833446892e-05\n"
     ]
    }
   ],
   "source": [
    "#set reguralisation\n",
    "dims = M_0.shape\n",
    "n_min = min(dims[0], dims[1])\n",
    "reg = np.sqrt( n_min / np.prod(dims))\n",
    "\n",
    "L_alm, C_alm = trpca(M_0, reg)"
   ]
  },
  {
   "cell_type": "code",
   "execution_count": 9,
   "metadata": {},
   "outputs": [
    {
     "data": {
      "text/plain": [
       "0.005354224680411165"
      ]
     },
     "execution_count": 9,
     "metadata": {},
     "output_type": "execute_result"
    }
   ],
   "source": [
    "error(L_alm,L_0)"
   ]
  },
  {
   "cell_type": "code",
   "execution_count": null,
   "metadata": {},
   "outputs": [],
   "source": []
  }
 ],
 "metadata": {
  "kernelspec": {
   "display_name": "Python 3",
   "language": "python",
   "name": "python3"
  },
  "language_info": {
   "codemirror_mode": {
    "name": "ipython",
    "version": 3
   },
   "file_extension": ".py",
   "mimetype": "text/x-python",
   "name": "python",
   "nbconvert_exporter": "python",
   "pygments_lexer": "ipython3",
   "version": "3.7.3"
  }
 },
 "nbformat": 4,
 "nbformat_minor": 2
}

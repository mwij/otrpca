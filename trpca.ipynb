{
 "cells": [
  {
   "cell_type": "code",
   "execution_count": 1,
   "metadata": {},
   "outputs": [],
   "source": [
    "from __init__ import *"
   ]
  },
  {
   "cell_type": "code",
   "execution_count": 2,
   "metadata": {},
   "outputs": [],
   "source": [
    "#generate problem: recover L_0 (and C_0) when given M_0\n",
    "\n",
    "n = 25    #size of each dimension (3 dimension tensor)\n",
    "rank = 3  #rank of the tensor\n",
    "rho = .1  #proportion of corrupted entries\n",
    "\n",
    "A = np.random.normal(0,1/n,(n,rank,n))\n",
    "B = np.random.normal(0,1/n,(rank,n,n))\n",
    "L_0 = t_prod(A,B)\n",
    "\n",
    "S_0 = np.random.binomial(1,rho, L_0.shape)\n",
    "N   = np.random.normal(0,1/n, L_0.shape)\n",
    "C_0 = S_0 * N\n",
    "\n",
    "M_0 = L_0 + C_0"
   ]
  },
  {
   "cell_type": "code",
   "execution_count": null,
   "metadata": {},
   "outputs": [],
   "source": []
  },
  {
   "cell_type": "code",
   "execution_count": 4,
   "metadata": {},
   "outputs": [
    {
     "data": {
      "text/plain": [
       "{(0, 0), (0, 1), (1, 0), (1, 1)}"
      ]
     },
     "execution_count": 4,
     "metadata": {},
     "output_type": "execute_result"
    }
   ],
   "source": [
    "get_frontal_faces(np.ones((4,4,2,2)))"
   ]
  },
  {
   "cell_type": "code",
   "execution_count": null,
   "metadata": {},
   "outputs": [],
   "source": []
  },
  {
   "cell_type": "code",
   "execution_count": 3,
   "metadata": {},
   "outputs": [],
   "source": [
    "#set reguralisation\n",
    "dims = M_0.shape\n",
    "n_min = min(dims[0], dims[1])\n",
    "reg = np.sqrt( n_min / np.prod(dims))"
   ]
  },
  {
   "cell_type": "code",
   "execution_count": 4,
   "metadata": {},
   "outputs": [
    {
     "name": "stdout",
     "output_type": "stream",
     "text": [
      "start trpca\n",
      "cpu 12.8 ram 45.9 0 0.14988823367807577\n",
      "cpu 86.1 ram 46.0 10 0.14988823367807577\n",
      "cpu 57.1 ram 45.9 20 0.14988823367807577\n",
      "cpu 55.0 ram 45.9 30 0.14988823367807577\n",
      "cpu 52.2 ram 45.9 40 0.08897575343132735\n",
      "cpu 61.5 ram 46.0 50 0.04893438636079635\n",
      "cpu 54.2 ram 46.0 60 0.02240570229589686\n",
      "cpu 50.0 ram 46.0 70 0.008447101936994224\n",
      "cpu 55.0 ram 46.0 80 0.0031729455567864155\n",
      "cpu 50.0 ram 46.0 90 0.0010209785222380658\n",
      "cpu 50.0 ram 46.0 100 0.0005008094096588711\n",
      "cpu 53.6 ram 46.1 110 0.00010771417464033525\n",
      "cpu 50.0 ram 46.1 120 3.9288634783498613e-05\n",
      "cpu 71.4 ram 46.0 130 1.8604757022998297e-07\n"
     ]
    }
   ],
   "source": [
    "#apply algorithm\n",
    "L , C = trpca(M_0, reg)"
   ]
  },
  {
   "cell_type": "code",
   "execution_count": 5,
   "metadata": {},
   "outputs": [
    {
     "name": "stdout",
     "output_type": "stream",
     "text": [
      "3.438328478067158e-08 2.5766277009565804e-08\n"
     ]
    }
   ],
   "source": [
    "#test effectiveness\n",
    "L_error = np.linalg.norm(L - L_0)/np.linalg.norm(L_0)\n",
    "C_error = np.linalg.norm(C - C_0)/np.linalg.norm(C_0)\n",
    "print(L_error, C_error)"
   ]
  },
  {
   "cell_type": "code",
   "execution_count": null,
   "metadata": {},
   "outputs": [],
   "source": []
  }
 ],
 "metadata": {
  "kernelspec": {
   "display_name": "Python 3",
   "language": "python",
   "name": "python3"
  },
  "language_info": {
   "codemirror_mode": {
    "name": "ipython",
    "version": 3
   },
   "file_extension": ".py",
   "mimetype": "text/x-python",
   "name": "python",
   "nbconvert_exporter": "python",
   "pygments_lexer": "ipython3",
   "version": "3.7.3"
  }
 },
 "nbformat": 4,
 "nbformat_minor": 2
}

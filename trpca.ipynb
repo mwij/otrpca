{
 "cells": [
  {
   "cell_type": "code",
   "execution_count": 1,
   "metadata": {},
   "outputs": [],
   "source": [
    "from __init__ import *"
   ]
  },
  {
   "cell_type": "code",
   "execution_count": 1,
   "metadata": {},
   "outputs": [],
   "source": [
    "from trpca import trpca\n",
    "from t_prod import t_prod"
   ]
  },
  {
   "cell_type": "code",
   "execution_count": 2,
   "metadata": {},
   "outputs": [],
   "source": [
    "import numpy as np"
   ]
  },
  {
   "cell_type": "code",
   "execution_count": 2,
   "metadata": {},
   "outputs": [],
   "source": [
    "#generate problem: recover L_0 (and C_0) when given M_0\n",
    "\n",
    "n = 25    #size of each dimension (3 dimension tensor)\n",
    "rank = 3  #rank of the tensor\n",
    "rho = .1  #proportion of corrupted entries\n",
    "\n",
    "A = np.random.normal(0,1/n,(n,rank,n))\n",
    "B = np.random.normal(0,1/n,(rank,n,n))\n",
    "L_0 = t_prod(A,B)\n",
    "\n",
    "S_0 = np.random.binomial(1,rho, L_0.shape)\n",
    "N   = np.random.normal(0,1/n, L_0.shape)\n",
    "C_0 = S_0 * N\n",
    "\n",
    "M_0 = L_0 + C_0"
   ]
  },
  {
   "cell_type": "code",
   "execution_count": null,
   "metadata": {},
   "outputs": [],
   "source": []
  },
  {
   "cell_type": "code",
   "execution_count": 3,
   "metadata": {},
   "outputs": [
    {
     "data": {
      "text/plain": [
       "{(0, 0), (0, 1), (1, 0), (1, 1)}"
      ]
     },
     "execution_count": 3,
     "metadata": {},
     "output_type": "execute_result"
    }
   ],
   "source": [
    "get_frontal_faces(np.ones((4,4,2,2)))"
   ]
  },
  {
   "cell_type": "code",
   "execution_count": null,
   "metadata": {},
   "outputs": [],
   "source": []
  },
  {
   "cell_type": "code",
   "execution_count": 4,
   "metadata": {},
   "outputs": [],
   "source": [
    "#set reguralisation\n",
    "dims = M_0.shape\n",
    "n_min = min(dims[0], dims[1])\n",
    "reg = np.sqrt( n_min / np.prod(dims))"
   ]
  },
  {
   "cell_type": "code",
   "execution_count": 5,
   "metadata": {},
   "outputs": [],
   "source": [
    "#apply algorithm\n",
    "L , C = trpca(M_0, reg)"
   ]
  },
  {
   "cell_type": "code",
   "execution_count": 6,
   "metadata": {},
   "outputs": [
    {
     "name": "stdout",
     "output_type": "stream",
     "text": [
      "1.5113407224542788e-08 1.093985741825828e-08\n"
     ]
    }
   ],
   "source": [
    "#test effectiveness\n",
    "L_error = np.linalg.norm(L - L_0)/np.linalg.norm(L_0)\n",
    "C_error = np.linalg.norm(C - C_0)/np.linalg.norm(C_0)\n",
    "print(L_error, C_error)"
   ]
  },
  {
   "cell_type": "code",
   "execution_count": null,
   "metadata": {},
   "outputs": [],
   "source": []
  }
 ],
 "metadata": {
  "kernelspec": {
   "display_name": "Python 3",
   "language": "python",
   "name": "python3"
  },
  "language_info": {
   "codemirror_mode": {
    "name": "ipython",
    "version": 3
   },
   "file_extension": ".py",
   "mimetype": "text/x-python",
   "name": "python",
   "nbconvert_exporter": "python",
   "pygments_lexer": "ipython3",
   "version": "3.7.3"
  }
 },
 "nbformat": 4,
 "nbformat_minor": 2
}
